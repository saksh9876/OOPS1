{
 "cells": [
  {
   "cell_type": "markdown",
   "id": "e0b4b6b3-4527-4f70-99b2-27215ca0cfe3",
   "metadata": {},
   "source": [
    "Q1. Explain Class and Object with respect to Object-Oriented Programming. Give a suitable example."
   ]
  },
  {
   "cell_type": "markdown",
   "id": "e4426161-62dd-46ea-88b9-bc2ed6942cc8",
   "metadata": {},
   "source": [
    "\n",
    "\n",
    "\n",
    "\n",
    "\n",
    "\n",
    "ANS:\n",
    "    \n",
    "    \n",
    "    \n",
    "    In object-oriented programming (OOP), a class is a blueprint or template that defines the structure and behavior of objects. An object, on the other hand, is an instance of a class – it's a concrete realization of the class blueprint that can hold data (attributes) and perform actions (methods).\n",
    "\n",
    "**Class:**\n",
    "A class is a user-defined data type that encapsulates data (attributes) and methods (functions) that operate on that data. It serves as a blueprint for creating objects. It defines the properties and behaviors that objects of the class will have. In OOP, classes are used to model real-world entities or concepts.\n",
    "\n",
    "**Object:**\n",
    "An object is an instance of a class. It's a concrete entity that can store data in the form of attributes and perform actions using methods defined in the class. Objects allow you to work with data and functionality in a modular and organized way.\n",
    "\n",
    "Let's illustrate this with an example of a `Car` class:\n",
    "\n",
    "```python\n",
    "class Car:\n",
    "    def __init__(self, make, model, year):\n",
    "        self.make = make\n",
    "        self.model = model\n",
    "        self.year = year\n",
    "        self.is_running = False\n",
    "\n",
    "    def start(self):\n",
    "        self.is_running = True\n",
    "        print(f\"{self.make} {self.model} started.\")\n",
    "\n",
    "    def stop(self):\n",
    "        self.is_running = False\n",
    "        print(f\"{self.make} {self.model} stopped.\")\n",
    "\n",
    "# Creating objects (instances) of the Car class\n",
    "car1 = Car(\"Toyota\", \"Camry\", 2022)\n",
    "car2 = Car(\"Honda\", \"Civic\", 2021)\n",
    "\n",
    "# Accessing object attributes\n",
    "print(f\"{car1.make} {car1.model} ({car1.year})\")\n",
    "print(f\"{car2.make} {car2.model} ({car2.year})\")\n",
    "\n",
    "# Calling object methods\n",
    "car1.start()\n",
    "car2.start()\n",
    "\n",
    "car1.stop()\n",
    "car2.stop()\n",
    "```\n",
    "\n",
    "In this example, the `Car` class defines attributes like `make`, `model`, `year`, and `is_running`, as well as methods like `start` and `stop`. Objects `car1` and `car2` are instances of the `Car` class, each with their own attribute values. You can access these attributes and call methods on the objects to perform actions.\n",
    "\n",
    "In summary, a class is a blueprint that defines the structure and behavior of objects, while an object is a concrete instance of that class with its own set of attributes and methods. OOP enables you to model real-world scenarios in a modular and organized way by using classes and objects."
   ]
  },
  {
   "cell_type": "markdown",
   "id": "1fa3975f-3664-4301-b4e9-a57da0f3d14c",
   "metadata": {},
   "source": [
    "Q2. Name the four pillars of OOPs."
   ]
  },
  {
   "cell_type": "markdown",
   "id": "00b56568-ae85-41de-8c52-98c9a8b6cf3e",
   "metadata": {},
   "source": [
    "\n",
    "\n",
    "\n",
    "\n",
    "ANS:\n",
    "    \n",
    "    \n",
    "    \n",
    "    \n",
    "    The four pillars of Object-Oriented Programming (OOP) are:\n",
    "\n",
    "1. **Encapsulation:** Encapsulation refers to the bundling of data (attributes) and methods (functions) that operate on the data into a single unit, known as a class. The data within a class is typically hidden from the outside and can only be accessed through defined methods. This concept promotes data hiding, ensuring that the internal implementation details of an object are not directly exposed, which enhances security and maintainability.\n",
    "\n",
    "2. **Abstraction:** Abstraction involves simplifying complex reality by modeling classes based on the essential properties and behaviors relevant to the problem domain. It allows you to focus on what an object does rather than how it does it. Abstraction helps manage complexity, reduce code duplication, and makes code more understandable by providing a high-level view of an object's functionality.\n",
    "\n",
    "3. **Inheritance:** Inheritance enables the creation of new classes (derived or subclass) based on existing classes (base or superclass). The derived class inherits the attributes and methods of the superclass, allowing for code reuse and extending or modifying the behavior of the inherited components. Inheritance establishes a hierarchy of classes, promoting the \"is-a\" relationship between objects.\n",
    "\n",
    "4. **Polymorphism:** Polymorphism allows objects of different classes to be treated as objects of a common superclass through a shared interface. It enables the same method to have different implementations in different classes, facilitating code extensibility and flexibility. Polymorphism is often achieved through method overriding (redefining a method in a derived class) and method overloading (defining multiple methods with the same name but different parameter lists).\n",
    "\n",
    "These four pillars collectively provide a structured approach to designing and implementing software systems using objects and classes, promoting code reusability, maintainability, and modularity."
   ]
  },
  {
   "cell_type": "markdown",
   "id": "9a44e839-d112-4e0e-a9a5-4b4e6683da61",
   "metadata": {},
   "source": [
    "Q3. Explain why the __init__() function is used. Give a suitable example."
   ]
  },
  {
   "cell_type": "code",
   "execution_count": null,
   "id": "42691336-b566-42a2-951c-4a94bde8c8af",
   "metadata": {},
   "outputs": [],
   "source": [
    "\n",
    "\n",
    "\n",
    "\n",
    "\n",
    "\n",
    "ANS:\n",
    "    \n",
    "    \n",
    "    \n",
    "    \n",
    "    \n",
    "    "
   ]
  }
 ],
 "metadata": {
  "kernelspec": {
   "display_name": "Python 3 (ipykernel)",
   "language": "python",
   "name": "python3"
  },
  "language_info": {
   "codemirror_mode": {
    "name": "ipython",
    "version": 3
   },
   "file_extension": ".py",
   "mimetype": "text/x-python",
   "name": "python",
   "nbconvert_exporter": "python",
   "pygments_lexer": "ipython3",
   "version": "3.10.8"
  }
 },
 "nbformat": 4,
 "nbformat_minor": 5
}
